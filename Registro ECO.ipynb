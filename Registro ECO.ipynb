{
 "cells": [
  {
   "cell_type": "markdown",
   "id": "d5757c31",
   "metadata": {
    "toc": true
   },
   "source": [
    "<h1>Table of Contents<span class=\"tocSkip\"></span></h1>\n",
    "<div class=\"toc\"><ul class=\"toc-item\"><li><span><a href=\"#Import-libraries\" data-toc-modified-id=\"Import-libraries-1\"><span class=\"toc-item-num\">1&nbsp;&nbsp;</span>Import libraries</a></span></li><li><span><a href=\"#Load-spanish-postal-codes\" data-toc-modified-id=\"Load-spanish-postal-codes-2\"><span class=\"toc-item-num\">2&nbsp;&nbsp;</span>Load spanish postal codes</a></span></li><li><span><a href=\"#Prepare-REGOE-search\" data-toc-modified-id=\"Prepare-REGOE-search-3\"><span class=\"toc-item-num\">3&nbsp;&nbsp;</span>Prepare REGOE search</a></span><ul class=\"toc-item\"><li><span><a href=\"#Configure-selenium\" data-toc-modified-id=\"Configure-selenium-3.1\"><span class=\"toc-item-num\">3.1&nbsp;&nbsp;</span>Configure selenium</a></span></li><li><span><a href=\"#Define-function-to-extract-data-from-ersults-table\" data-toc-modified-id=\"Define-function-to-extract-data-from-ersults-table-3.2\"><span class=\"toc-item-num\">3.2&nbsp;&nbsp;</span>Define function to extract data from ersults table</a></span></li><li><span><a href=\"#Go-over-postal-codes-list\" data-toc-modified-id=\"Go-over-postal-codes-list-3.3\"><span class=\"toc-item-num\">3.3&nbsp;&nbsp;</span>Go over postal codes list</a></span></li><li><span><a href=\"#Merge-the-results-and-save\" data-toc-modified-id=\"Merge-the-results-and-save-3.4\"><span class=\"toc-item-num\">3.4&nbsp;&nbsp;</span>Merge the results and save</a></span></li></ul></li><li><span><a href=\"#Tests\" data-toc-modified-id=\"Tests-4\"><span class=\"toc-item-num\">4&nbsp;&nbsp;</span>Tests</a></span></li></ul></div>"
   ]
  },
  {
   "cell_type": "markdown",
   "id": "b8b1c964",
   "metadata": {},
   "source": [
    "### Import libraries"
   ]
  },
  {
   "cell_type": "code",
   "execution_count": 10,
   "id": "a3c0745a",
   "metadata": {},
   "outputs": [],
   "source": [
    "import time"
   ]
  },
  {
   "cell_type": "code",
   "execution_count": 11,
   "id": "4444ee41",
   "metadata": {},
   "outputs": [],
   "source": [
    "import tqdm"
   ]
  },
  {
   "cell_type": "code",
   "execution_count": 2,
   "id": "floating-westminster",
   "metadata": {},
   "outputs": [],
   "source": [
    "import requests"
   ]
  },
  {
   "cell_type": "code",
   "execution_count": 3,
   "id": "pleasant-tampa",
   "metadata": {},
   "outputs": [],
   "source": [
    "from bs4 import BeautifulSoup"
   ]
  },
  {
   "cell_type": "code",
   "execution_count": 4,
   "id": "4a03d9a0",
   "metadata": {},
   "outputs": [],
   "source": [
    "import pandas as pd"
   ]
  },
  {
   "cell_type": "markdown",
   "id": "53cfec6c",
   "metadata": {},
   "source": [
    "### Load spanish postal codes"
   ]
  },
  {
   "cell_type": "markdown",
   "id": "a246a90e",
   "metadata": {},
   "source": [
    "You can find the list here https://códigospostales.es/listado-de-codigos-postales-de-espana/"
   ]
  },
  {
   "cell_type": "code",
   "execution_count": null,
   "id": "40f9f0a4",
   "metadata": {},
   "outputs": [],
   "source": [
    "cp = pd.read_csv('./data/listado-de-codigos-postales-de-españa.csv', \n",
    "                 encoding='latin-1', sep=';',\n",
    "                 dtype={'codigopostalid': object})"
   ]
  },
  {
   "cell_type": "code",
   "execution_count": 7,
   "id": "4c2f503b",
   "metadata": {},
   "outputs": [
    {
     "data": {
      "text/html": [
       "<div>\n",
       "<style scoped>\n",
       "    .dataframe tbody tr th:only-of-type {\n",
       "        vertical-align: middle;\n",
       "    }\n",
       "\n",
       "    .dataframe tbody tr th {\n",
       "        vertical-align: top;\n",
       "    }\n",
       "\n",
       "    .dataframe thead th {\n",
       "        text-align: right;\n",
       "    }\n",
       "</style>\n",
       "<table border=\"1\" class=\"dataframe\">\n",
       "  <thead>\n",
       "    <tr style=\"text-align: right;\">\n",
       "      <th></th>\n",
       "      <th>provincia</th>\n",
       "      <th>poblacion</th>\n",
       "      <th>codigopostalid</th>\n",
       "    </tr>\n",
       "  </thead>\n",
       "  <tbody>\n",
       "    <tr>\n",
       "      <th>0</th>\n",
       "      <td>Araba/Álava</td>\n",
       "      <td>Alegría-Dulantzi</td>\n",
       "      <td>00240</td>\n",
       "    </tr>\n",
       "    <tr>\n",
       "      <th>1</th>\n",
       "      <td>Ávila</td>\n",
       "      <td>Candeleda</td>\n",
       "      <td>00548</td>\n",
       "    </tr>\n",
       "    <tr>\n",
       "      <th>2</th>\n",
       "      <td>Araba/Álava</td>\n",
       "      <td>Vitoria-Gasteiz</td>\n",
       "      <td>01001</td>\n",
       "    </tr>\n",
       "    <tr>\n",
       "      <th>3</th>\n",
       "      <td>Araba/Álava</td>\n",
       "      <td>Vitoria-Gasteiz</td>\n",
       "      <td>01002</td>\n",
       "    </tr>\n",
       "    <tr>\n",
       "      <th>4</th>\n",
       "      <td>Araba/Álava</td>\n",
       "      <td>Vitoria-Gasteiz</td>\n",
       "      <td>01003</td>\n",
       "    </tr>\n",
       "  </tbody>\n",
       "</table>\n",
       "</div>"
      ],
      "text/plain": [
       "     provincia         poblacion codigopostalid\n",
       "0  Araba/Álava  Alegría-Dulantzi          00240\n",
       "1        Ávila         Candeleda          00548\n",
       "2  Araba/Álava   Vitoria-Gasteiz          01001\n",
       "3  Araba/Álava   Vitoria-Gasteiz          01002\n",
       "4  Araba/Álava   Vitoria-Gasteiz          01003"
      ]
     },
     "execution_count": 7,
     "metadata": {},
     "output_type": "execute_result"
    }
   ],
   "source": [
    "cp.head()"
   ]
  },
  {
   "cell_type": "markdown",
   "id": "2543e0bb",
   "metadata": {},
   "source": [
    "### Prepare REGOE search"
   ]
  },
  {
   "cell_type": "markdown",
   "id": "4a500554",
   "metadata": {},
   "source": [
    "#### Configure selenium\n",
    "- Check Web Scraping using Selenium and Python [tutorial](https://www.scrapingbee.com/blog/selenium-python/)"
   ]
  },
  {
   "cell_type": "code",
   "execution_count": 7,
   "id": "f74890a5",
   "metadata": {},
   "outputs": [],
   "source": [
    "from selenium import webdriver\n",
    "import geckodriver_autoinstaller\n",
    "\n",
    "\n",
    "\n",
    "geckodriver_autoinstaller.install()  # Check if the current version of geckodriver exists\n",
    "                                     # and if it doesn't exist, download it automatically,\n",
    "                                     # then add geckodriver to path\n",
    "\n",
    "driver = webdriver.Firefox()"
   ]
  },
  {
   "cell_type": "code",
   "execution_count": 6,
   "id": "upper-works",
   "metadata": {},
   "outputs": [],
   "source": [
    "base_url = 'https://servicio.mapama.gob.es/regoe/Publica/Operadores2.aspx'"
   ]
  },
  {
   "cell_type": "markdown",
   "id": "e1b841dc",
   "metadata": {},
   "source": [
    "#### Define function to extract data from ersults table"
   ]
  },
  {
   "cell_type": "code",
   "execution_count": 12,
   "id": "e1f480d5",
   "metadata": {},
   "outputs": [],
   "source": [
    "def get_rows(n):\n",
    "    tabla = driver.find_elements_by_id(\"CphCuerpoPagina_GVCertificados\")\n",
    "    rows = tabla[0].find_elements_by_xpath(\"//*[@class='GridViewRowEsilo' or @class='GridViewAlternatingRowEstilo']\")\n",
    "    df = pd.DataFrame([[td.text for td in row.find_elements_by_xpath(\".//td\")] for row in rows])\n",
    "    try:\n",
    "        links = tabla[0].find_element_by_class_name(\"GridViewPaginacion\").find_elements_by_xpath(\".//a\")\n",
    "        num = len(links)\n",
    "        links[n].click()\n",
    "    except:\n",
    "        pass\n",
    "        \n",
    "    return df"
   ]
  },
  {
   "cell_type": "markdown",
   "id": "4c88e405",
   "metadata": {},
   "source": [
    "#### Go over postal codes list"
   ]
  },
  {
   "cell_type": "code",
   "execution_count": null,
   "id": "8099d982",
   "metadata": {},
   "outputs": [],
   "source": [
    "total_pages = 0\n",
    "total_records = 0\n",
    "pages = []\n",
    "for cod in tqdm.tqdm(cp['codigopostalid'].unique()):\n",
    "    driver.get(base_url)\n",
    "    cp_input = driver.find_element_by_name(\"ctl00$CphCuerpoPagina$txtCodigoPostal\")\n",
    "    cp_input.send_keys(cod)\n",
    "    driver.find_element_by_id(\"CphCuerpoPagina_btnBuscar\").click()\n",
    "    # time.sleep(1)\n",
    "    tabla = driver.find_elements_by_id(\"CphCuerpoPagina_GVCertificados\")\n",
    "    if tabla:\n",
    "        \n",
    "        try:\n",
    "            links = tabla[0].find_element_by_class_name(\"GridViewPaginacion\").find_elements_by_xpath(\".//a\")\n",
    "            num = len(links)\n",
    "        except:\n",
    "            num = 1\n",
    "           \n",
    "        for i in range(num):\n",
    "            df = get_rows(i)\n",
    "            pages.append(df)\n",
    "            \n",
    "        total_pages +=num\n",
    "        print(f'cp:{cod}: {num} pages')\n",
    "\n",
    "print(f'{total_pages} pages')\n",
    "\n"
   ]
  },
  {
   "cell_type": "markdown",
   "id": "6a89c1e7",
   "metadata": {},
   "source": [
    "#### Merge the results and save"
   ]
  },
  {
   "cell_type": "code",
   "execution_count": 275,
   "id": "cf0f07af",
   "metadata": {},
   "outputs": [],
   "source": [
    "df = pd.concat(pages)"
   ]
  },
  {
   "cell_type": "code",
   "execution_count": 282,
   "id": "cd0c3317",
   "metadata": {},
   "outputs": [],
   "source": [
    "df.drop([0,1], axis=1, inplace=True)"
   ]
  },
  {
   "cell_type": "code",
   "execution_count": 284,
   "id": "c2a49878",
   "metadata": {},
   "outputs": [],
   "source": [
    "df.columns = ['Razón social','Dirección sede social','Provincia','Comunidad Autónoma','Actividad','Ubicación actividad','Grupo de productos','Entidad de control']"
   ]
  },
  {
   "cell_type": "code",
   "execution_count": 285,
   "id": "6b4c8587",
   "metadata": {},
   "outputs": [],
   "source": [
    "df.to_csv('REGOE_2021.csv')"
   ]
  }
 ],
 "metadata": {
  "kernelspec": {
   "display_name": "Ironhack",
   "language": "python",
   "name": "ironhack"
  },
  "language_info": {
   "codemirror_mode": {
    "name": "ipython",
    "version": 3
   },
   "file_extension": ".py",
   "mimetype": "text/x-python",
   "name": "python",
   "nbconvert_exporter": "python",
   "pygments_lexer": "ipython3",
   "version": "3.7.3"
  },
  "toc": {
   "base_numbering": 1,
   "nav_menu": {},
   "number_sections": true,
   "sideBar": true,
   "skip_h1_title": false,
   "title_cell": "Table of Contents",
   "title_sidebar": "Contents",
   "toc_cell": true,
   "toc_position": {},
   "toc_section_display": true,
   "toc_window_display": false
  },
  "varInspector": {
   "cols": {
    "lenName": 16,
    "lenType": 16,
    "lenVar": 40
   },
   "kernels_config": {
    "python": {
     "delete_cmd_postfix": "",
     "delete_cmd_prefix": "del ",
     "library": "var_list.py",
     "varRefreshCmd": "print(var_dic_list())"
    },
    "r": {
     "delete_cmd_postfix": ") ",
     "delete_cmd_prefix": "rm(",
     "library": "var_list.r",
     "varRefreshCmd": "cat(var_dic_list()) "
    }
   },
   "types_to_exclude": [
    "module",
    "function",
    "builtin_function_or_method",
    "instance",
    "_Feature"
   ],
   "window_display": false
  }
 },
 "nbformat": 4,
 "nbformat_minor": 5
}
